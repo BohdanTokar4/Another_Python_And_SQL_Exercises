{
 "cells": [
  {
   "cell_type": "code",
   "execution_count": 24,
   "id": "24d795b3-a88f-4123-bb23-a92b12888fc0",
   "metadata": {},
   "outputs": [
    {
     "name": "stdout",
     "output_type": "stream",
     "text": [
      "Парних чисел у списку:  9\n",
      "Непарних чисел у списку:  7\n"
     ]
    }
   ],
   "source": [
    "# Counting Odd and Even Numbers In list\n",
    "list_a = (0, 1, 2, 3, 4, 5, 6, 7, 8, 9, 10, 11, 46, 3745, 546, 9324)\n",
    "odd = 0\n",
    "even = 0\n",
    "\n",
    "for number in list_a:\n",
    "    if number % 2 == 0:\n",
    "        even += 1\n",
    "    else:\n",
    "        odd += 1\n",
    "\n",
    "print(\"Парних чисел у списку: \", even)\n",
    "print(\"Непарних чисел у списку: \", odd)"
   ]
  },
  {
   "cell_type": "code",
   "execution_count": 22,
   "id": "fbb8fb73-94c7-484f-8f1e-6754b22fc803",
   "metadata": {},
   "outputs": [
    {
     "name": "stdin",
     "output_type": "stream",
     "text": [
      "Введіть число:  5\n"
     ]
    },
    {
     "name": "stdout",
     "output_type": "stream",
     "text": [
      "120\n"
     ]
    }
   ],
   "source": [
    "# Factorial Calculation\n",
    "\n",
    "n = int(input(\"Введіть число: \"))\n",
    "\n",
    "if n == 0 or n ==1:\n",
    "    print(1)\n",
    "else: \n",
    "    factorial = 1\n",
    "    for i in range(2, n + 1):\n",
    "        factorial *= i\n",
    "    print(factorial)"
   ]
  },
  {
   "cell_type": "code",
   "execution_count": 23,
   "id": "22579515-91c5-42f9-afa7-0d279cac949a",
   "metadata": {},
   "outputs": [
    {
     "name": "stdin",
     "output_type": "stream",
     "text": [
      "Введіть ваш пароль:  QWERTy123\n"
     ]
    },
    {
     "name": "stdout",
     "output_type": "stream",
     "text": [
      "Пароль прийнято\n"
     ]
    }
   ],
   "source": [
    "# Check if the entered password meets the following criteria\n",
    "\n",
    "password = input(\"Введіть ваш пароль: \")\n",
    "\n",
    "if len(password) < 8:\n",
    "    print(\"Пароль має містити більше 8 символів\")\n",
    "elif not any(char.isdigit() for char in password):\n",
    "    print(\"Пароль має містити хоча б одну цифру\")\n",
    "elif not (any(char.isupper() for char in password) and any(char.islower() for char in password)):\n",
    "    print(\"Пароль має містити хоча б одну маленьку і велику літеру\")\n",
    "else:\n",
    "    print(\"Пароль прийнято\")"
   ]
  },
  {
   "cell_type": "code",
   "execution_count": 43,
   "id": "96452b4c-f18a-4c74-b933-009f7439e560",
   "metadata": {},
   "outputs": [
    {
     "name": "stdin",
     "output_type": "stream",
     "text": [
      "Введіть слово:  qwe rt y y,t,r,e,w,q\n"
     ]
    },
    {
     "name": "stdout",
     "output_type": "stream",
     "text": [
      "Слово 'qwe rt y ytrewq' не є паліндромом\n"
     ]
    }
   ],
   "source": [
    "# Palindrome Checker\n",
    "\n",
    "word = input(\"Введіть слово: \")\n",
    "processed_word = \"\".join(char.lower() for char in word if char.isalnum())\n",
    "\n",
    "if processed_word == processed_word[::-1]:\n",
    "    print(f\"Слово '{word}' є паліндромом\")\n",
    "else: \n",
    "    print(f\"Слово '{word}' не є паліндромом\")\n"
   ]
  },
  {
   "cell_type": "code",
   "execution_count": 70,
   "id": "c0129de2-5968-466d-ad00-42e2f1f95307",
   "metadata": {},
   "outputs": [
    {
     "name": "stdin",
     "output_type": "stream",
     "text": [
      "Спробуйте вгадати число:  f\n"
     ]
    },
    {
     "name": "stdout",
     "output_type": "stream",
     "text": [
      "Будь ласка, введіть ціле число.\n"
     ]
    },
    {
     "name": "stdin",
     "output_type": "stream",
     "text": [
      "Спробуйте вгадати число:  50\n"
     ]
    },
    {
     "name": "stdout",
     "output_type": "stream",
     "text": [
      "Загадане число більше\n"
     ]
    },
    {
     "name": "stdin",
     "output_type": "stream",
     "text": [
      "Спробуйте вгадати число:  75\n"
     ]
    },
    {
     "name": "stdout",
     "output_type": "stream",
     "text": [
      "Загадане число менше\n"
     ]
    },
    {
     "name": "stdin",
     "output_type": "stream",
     "text": [
      "Спробуйте вгадати число:  65\n"
     ]
    },
    {
     "name": "stdout",
     "output_type": "stream",
     "text": [
      "Загадане число менше\n"
     ]
    },
    {
     "name": "stdin",
     "output_type": "stream",
     "text": [
      "Спробуйте вгадати число:  60\n"
     ]
    },
    {
     "name": "stdout",
     "output_type": "stream",
     "text": [
      "Загадане число менше\n"
     ]
    },
    {
     "name": "stdin",
     "output_type": "stream",
     "text": [
      "Спробуйте вгадати число:  55\n"
     ]
    },
    {
     "name": "stdout",
     "output_type": "stream",
     "text": [
      "Загадане число менше\n"
     ]
    },
    {
     "name": "stdin",
     "output_type": "stream",
     "text": [
      "Спробуйте вгадати число:  51\n"
     ]
    },
    {
     "name": "stdout",
     "output_type": "stream",
     "text": [
      "Загадане число більше\n"
     ]
    },
    {
     "name": "stdin",
     "output_type": "stream",
     "text": [
      "Спробуйте вгадати число:  53\n"
     ]
    },
    {
     "name": "stdout",
     "output_type": "stream",
     "text": [
      "Ви вгадали\n"
     ]
    }
   ],
   "source": [
    "# Guess the Number\n",
    "\n",
    "from random import randrange\n",
    "\n",
    "number = randrange(1, 101)\n",
    "\n",
    "while True:\n",
    "    try:\n",
    "        number_input = int(input(\"Спробуйте вгадати число: \"))\n",
    "        if number_input == number:\n",
    "            print(\"Ви вгадали\")\n",
    "            break\n",
    "        elif number_input < number:\n",
    "            print(\"Загадане число більше\")\n",
    "        elif number_input > number:\n",
    "            print (\"Загадане число менше\")\n",
    "        else:\n",
    "            print (\"Ви не вгадали\")\n",
    "    except ValueError:\n",
    "        print(\"Будь ласка, введіть ціле число.\")"
   ]
  },
  {
   "cell_type": "code",
   "execution_count": 75,
   "id": "bdade928-0730-451b-90fb-ab89963cf706",
   "metadata": {},
   "outputs": [
    {
     "name": "stdin",
     "output_type": "stream",
     "text": [
      "Enter a sentence:  asd adkgfh fbdkigjb osdfgj asd asd a s d\n"
     ]
    },
    {
     "name": "stdout",
     "output_type": "stream",
     "text": [
      "Word frequency in the sentence:\n",
      "asd: 3\n",
      "adkgfh: 1\n",
      "fbdkigjb: 1\n",
      "osdfgj: 1\n",
      "a: 1\n",
      "s: 1\n",
      "d: 1\n"
     ]
    }
   ],
   "source": [
    "# Counter of the frequency of each word in the sentence\n",
    "\n",
    "\n",
    "user_sentence = input(\"Enter a sentence: \")\n",
    "\n",
    "\n",
    "cleaned_sentence = \"\" # Видалити пунктуацію та перевести в нижній регістр\n",
    "for char in user_sentence:\n",
    "    if char.isalnum() or char.isspace():\n",
    "        cleaned_sentence += char.lower()\n",
    "\n",
    "words = cleaned_sentence.split() # Розділити речення на слова\n",
    "\n",
    "word_frequency = {} # Створити словник для зберігання частот слів\n",
    "\n",
    "for word in words: # Порахувати частоту кожного слова\n",
    "    if word in word_frequency:\n",
    "        word_frequency[word] += 1\n",
    "    else:\n",
    "        word_frequency[word] = 1\n",
    "\n",
    "print(\"Word frequency in the sentence:\")\n",
    "for word, frequency in word_frequency.items():\n",
    "    print(f\"{word}: {frequency}\")\n"
   ]
  },
  {
   "cell_type": "code",
   "execution_count": null,
   "id": "8a7f3a3b-3d6c-4e6f-8882-54d2a17c12f2",
   "metadata": {},
   "outputs": [],
   "source": []
  }
 ],
 "metadata": {
  "kernelspec": {
   "display_name": "Python 3 (ipykernel)",
   "language": "python",
   "name": "python3"
  },
  "language_info": {
   "codemirror_mode": {
    "name": "ipython",
    "version": 3
   },
   "file_extension": ".py",
   "mimetype": "text/x-python",
   "name": "python",
   "nbconvert_exporter": "python",
   "pygments_lexer": "ipython3",
   "version": "3.12.0"
  }
 },
 "nbformat": 4,
 "nbformat_minor": 5
}
